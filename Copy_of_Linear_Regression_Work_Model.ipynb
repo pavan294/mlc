{
  "nbformat": 4,
  "nbformat_minor": 0,
  "metadata": {
    "colab": {
      "name": "Copy of Linear Regression Work Model.ipynb",
      "version": "0.3.2",
      "provenance": []
    },
    "kernelspec": {
      "name": "python3",
      "display_name": "Python 3"
    }
  },
  "cells": [
    {
      "metadata": {
        "id": "cuPp0ACJ3R1A",
        "colab_type": "text"
      },
      "cell_type": "markdown",
      "source": [
        "# PRACTICAL IMPLEMENTATION OF LINEAR REGRESSION"
      ]
    },
    {
      "metadata": {
        "id": "7W0mDXzG3bq_",
        "colab_type": "text"
      },
      "cell_type": "markdown",
      "source": [
        "**THEME**\n",
        "\n",
        "The dataset describes city-cycle fuel consumption in miles per gallon, to be predicted in terms of 3 multivalued discrete and 5 continuous attributes.\n",
        "\n",
        "Attribute Information:\n",
        "\n",
        "    1. mpg:           continuous\n",
        "    2. cylinders:     multi-valued discrete\n",
        "    3. displacement:  continuous\n",
        "    4. horsepower:    continuous\n",
        "    5. weight:        continuous\n",
        "    6. acceleration:  continuous\n",
        "    7. model year:    multi-valued discrete\n",
        "    8. origin:        multi-valued discrete\n",
        "    9. car name:      string (unique for each instance)"
      ]
    },
    {
      "metadata": {
        "id": "-1KwGiYR33qt",
        "colab_type": "text"
      },
      "cell_type": "markdown",
      "source": [
        "**The current workflow involves a clear application of each and every step and the noteboook will forge you to work on more diverse datasets.**"
      ]
    },
    {
      "metadata": {
        "id": "ewOZy1C1F-j4",
        "colab_type": "text"
      },
      "cell_type": "markdown",
      "source": [
        "# **PULLING THE DATASET LOCALLY**"
      ]
    },
    {
      "metadata": {
        "id": "2ePnBo8bGIJR",
        "colab_type": "text"
      },
      "cell_type": "markdown",
      "source": [
        "We will be using the Kaggle dataset of an Automobile's rate of fuel consumption in miles per gallon as an estimate by the mining the given technical features. \n",
        "\n",
        "Download the [autompg.csv](https://www.kaggle.com/uciml/autompg-dataset/home) file in your file system. \n",
        "\n",
        "Then upload the file below if using colab, else place the file in same path as this file in your file system. \n",
        "\n",
        "If you want more details on file system etc. please [read the full article](https://www.datacamp.com/community/tutorials/pandas-read-csv) from where we have pulled this tutorial."
      ]
    },
    {
      "metadata": {
        "id": "yrsjlV3BHKQQ",
        "colab_type": "code",
        "colab": {
          "resources": {
            "http://localhost:8080/nbextensions/google.colab/files.js": {
              "data": "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",
              "ok": true,
              "headers": [
                [
                  "content-type",
                  "application/javascript"
                ]
              ],
              "status": 200,
              "status_text": ""
            }
          },
          "base_uri": "https://localhost:8080/",
          "height": 72
        },
        "outputId": "15b0be9f-dd76-4766-d191-f5afaa36a407"
      },
      "cell_type": "code",
      "source": [
        "from google.colab import files\n",
        "uploaded = files.upload()"
      ],
      "execution_count": 1,
      "outputs": [
        {
          "output_type": "display_data",
          "data": {
            "text/html": [
              "\n",
              "     <input type=\"file\" id=\"files-f36f0c57-a4bf-492c-bd03-a92daa165558\" name=\"files[]\" multiple disabled />\n",
              "     <output id=\"result-f36f0c57-a4bf-492c-bd03-a92daa165558\">\n",
              "      Upload widget is only available when the cell has been executed in the\n",
              "      current browser session. Please rerun this cell to enable.\n",
              "      </output>\n",
              "      <script src=\"/nbextensions/google.colab/files.js\"></script> "
            ],
            "text/plain": [
              "<IPython.core.display.HTML object>"
            ]
          },
          "metadata": {
            "tags": []
          }
        },
        {
          "output_type": "stream",
          "text": [
            "Saving housedata.csv to housedata (1).csv\n"
          ],
          "name": "stdout"
        }
      ]
    },
    {
      "metadata": {
        "id": "m0Y8N9d6j4JC",
        "colab_type": "code",
        "colab": {}
      },
      "cell_type": "code",
      "source": [
        ""
      ],
      "execution_count": 0,
      "outputs": []
    },
    {
      "metadata": {
        "id": "fPLmfN_i3GqC",
        "colab_type": "code",
        "colab": {}
      },
      "cell_type": "code",
      "source": [
        "#importing the pandas package\n",
        "import pandas as pd"
      ],
      "execution_count": 0,
      "outputs": []
    },
    {
      "metadata": {
        "id": "aC8j4hKc9o_o",
        "colab_type": "code",
        "colab": {}
      },
      "cell_type": "code",
      "source": [
        "# loading the 'autompg.csv' data set which will be provided to you :)\n",
        "dataframe = pd.read_csv('housedata.csv')"
      ],
      "execution_count": 0,
      "outputs": []
    },
    {
      "metadata": {
        "id": "u_wSNEM9432d",
        "colab_type": "text"
      },
      "cell_type": "markdown",
      "source": [
        "# DIGGING INTO THE DATA"
      ]
    },
    {
      "metadata": {
        "id": "jS-uFUtr4_sj",
        "colab_type": "text"
      },
      "cell_type": "markdown",
      "source": [
        "**.info() in pandas**\n",
        "\n",
        "This method is prerogatively used for understanding the sort of data types present in indexes, columns and non-null values. It also shows up the memory used.\n",
        "\n",
        "Follow the [documentation](https://pandas.pydata.org/pandas-docs/version/0.23/generated/pandas.DataFrame.info.html)"
      ]
    },
    {
      "metadata": {
        "id": "9dQBJ5sl9zEy",
        "colab_type": "code",
        "colab": {
          "base_uri": "https://localhost:8080/",
          "height": 459
        },
        "outputId": "052a8b70-783c-4a6a-b1f7-0b10072cfa8e"
      },
      "cell_type": "code",
      "source": [
        "dataframe.info()"
      ],
      "execution_count": 5,
      "outputs": [
        {
          "output_type": "stream",
          "text": [
            "<class 'pandas.core.frame.DataFrame'>\n",
            "RangeIndex: 4396 entries, 0 to 4395\n",
            "Data columns (total 21 columns):\n",
            "id               4396 non-null int64\n",
            "date             4396 non-null object\n",
            "price            4396 non-null float64\n",
            "bedrooms         4396 non-null int64\n",
            "bathrooms        4396 non-null float64\n",
            "sqft_living      4396 non-null int64\n",
            "sqft_lot         4396 non-null int64\n",
            "floors           4396 non-null float64\n",
            "waterfront       4396 non-null int64\n",
            "view             4396 non-null int64\n",
            "condition        4396 non-null int64\n",
            "grade            4396 non-null int64\n",
            "sqft_above       4396 non-null int64\n",
            "sqft_basement    4396 non-null int64\n",
            "yr_built         4396 non-null int64\n",
            "yr_renovated     4396 non-null int64\n",
            "zipcode          4396 non-null int64\n",
            "lat              4396 non-null float64\n",
            "long             4395 non-null float64\n",
            "sqft_living15    4395 non-null float64\n",
            "sqft_lot15       4395 non-null float64\n",
            "dtypes: float64(7), int64(13), object(1)\n",
            "memory usage: 721.3+ KB\n"
          ],
          "name": "stdout"
        }
      ]
    },
    {
      "metadata": {
        "id": "Kg18T2Od7Cm6",
        "colab_type": "text"
      },
      "cell_type": "markdown",
      "source": [
        "**.describe() in pandas**\n",
        "\n",
        "This method facilitates with the descriptive statistics involving Mean,Standard Deviation, etc.\n",
        "\n",
        "Follow the [documentation](https://pandas.pydata.org/pandas-docs/stable/generated/pandas.DataFrame.describe.html)"
      ]
    },
    {
      "metadata": {
        "id": "GJrHBRlh90Bu",
        "colab_type": "code",
        "colab": {
          "base_uri": "https://localhost:8080/",
          "height": 317
        },
        "outputId": "0c07d4ff-2a09-45fa-890a-7ed5370c75d4"
      },
      "cell_type": "code",
      "source": [
        "dataframe.describe()"
      ],
      "execution_count": 6,
      "outputs": [
        {
          "output_type": "execute_result",
          "data": {
            "text/html": [
              "<div>\n",
              "<style scoped>\n",
              "    .dataframe tbody tr th:only-of-type {\n",
              "        vertical-align: middle;\n",
              "    }\n",
              "\n",
              "    .dataframe tbody tr th {\n",
              "        vertical-align: top;\n",
              "    }\n",
              "\n",
              "    .dataframe thead th {\n",
              "        text-align: right;\n",
              "    }\n",
              "</style>\n",
              "<table border=\"1\" class=\"dataframe\">\n",
              "  <thead>\n",
              "    <tr style=\"text-align: right;\">\n",
              "      <th></th>\n",
              "      <th>id</th>\n",
              "      <th>price</th>\n",
              "      <th>bedrooms</th>\n",
              "      <th>bathrooms</th>\n",
              "      <th>sqft_living</th>\n",
              "      <th>sqft_lot</th>\n",
              "      <th>floors</th>\n",
              "      <th>waterfront</th>\n",
              "      <th>view</th>\n",
              "      <th>condition</th>\n",
              "      <th>grade</th>\n",
              "      <th>sqft_above</th>\n",
              "      <th>sqft_basement</th>\n",
              "      <th>yr_built</th>\n",
              "      <th>yr_renovated</th>\n",
              "      <th>zipcode</th>\n",
              "      <th>lat</th>\n",
              "      <th>long</th>\n",
              "      <th>sqft_living15</th>\n",
              "      <th>sqft_lot15</th>\n",
              "    </tr>\n",
              "  </thead>\n",
              "  <tbody>\n",
              "    <tr>\n",
              "      <th>count</th>\n",
              "      <td>4.396000e+03</td>\n",
              "      <td>4.396000e+03</td>\n",
              "      <td>4396.000000</td>\n",
              "      <td>4396.000000</td>\n",
              "      <td>4396.000000</td>\n",
              "      <td>4.396000e+03</td>\n",
              "      <td>4396.000000</td>\n",
              "      <td>4396.000000</td>\n",
              "      <td>4396.000000</td>\n",
              "      <td>4396.000000</td>\n",
              "      <td>4396.000000</td>\n",
              "      <td>4396.000000</td>\n",
              "      <td>4396.000000</td>\n",
              "      <td>4396.000000</td>\n",
              "      <td>4396.000000</td>\n",
              "      <td>4396.000000</td>\n",
              "      <td>4396.000000</td>\n",
              "      <td>4395.000000</td>\n",
              "      <td>4395.000000</td>\n",
              "      <td>4395.000000</td>\n",
              "    </tr>\n",
              "    <tr>\n",
              "      <th>mean</th>\n",
              "      <td>4.620277e+09</td>\n",
              "      <td>5.385529e+05</td>\n",
              "      <td>3.369654</td>\n",
              "      <td>2.061306</td>\n",
              "      <td>2057.488626</td>\n",
              "      <td>1.579570e+04</td>\n",
              "      <td>1.430164</td>\n",
              "      <td>0.009327</td>\n",
              "      <td>0.243858</td>\n",
              "      <td>3.457916</td>\n",
              "      <td>7.590992</td>\n",
              "      <td>1748.192903</td>\n",
              "      <td>309.295723</td>\n",
              "      <td>1966.646952</td>\n",
              "      <td>94.908098</td>\n",
              "      <td>98078.678799</td>\n",
              "      <td>47.559557</td>\n",
              "      <td>-122.215946</td>\n",
              "      <td>1973.177019</td>\n",
              "      <td>13403.707850</td>\n",
              "    </tr>\n",
              "    <tr>\n",
              "      <th>std</th>\n",
              "      <td>2.868658e+09</td>\n",
              "      <td>3.880678e+05</td>\n",
              "      <td>0.911351</td>\n",
              "      <td>0.775511</td>\n",
              "      <td>922.936164</td>\n",
              "      <td>4.359692e+04</td>\n",
              "      <td>0.510985</td>\n",
              "      <td>0.096134</td>\n",
              "      <td>0.775123</td>\n",
              "      <td>0.678822</td>\n",
              "      <td>1.163593</td>\n",
              "      <td>815.582745</td>\n",
              "      <td>457.410963</td>\n",
              "      <td>28.206052</td>\n",
              "      <td>424.859973</td>\n",
              "      <td>54.324421</td>\n",
              "      <td>0.139923</td>\n",
              "      <td>0.141278</td>\n",
              "      <td>677.743384</td>\n",
              "      <td>26613.199102</td>\n",
              "    </tr>\n",
              "    <tr>\n",
              "      <th>min</th>\n",
              "      <td>1.000102e+06</td>\n",
              "      <td>7.500000e+04</td>\n",
              "      <td>0.000000</td>\n",
              "      <td>0.000000</td>\n",
              "      <td>380.000000</td>\n",
              "      <td>6.090000e+02</td>\n",
              "      <td>1.000000</td>\n",
              "      <td>0.000000</td>\n",
              "      <td>0.000000</td>\n",
              "      <td>1.000000</td>\n",
              "      <td>3.000000</td>\n",
              "      <td>380.000000</td>\n",
              "      <td>0.000000</td>\n",
              "      <td>1900.000000</td>\n",
              "      <td>0.000000</td>\n",
              "      <td>98001.000000</td>\n",
              "      <td>47.155900</td>\n",
              "      <td>-122.514000</td>\n",
              "      <td>620.000000</td>\n",
              "      <td>660.000000</td>\n",
              "    </tr>\n",
              "    <tr>\n",
              "      <th>25%</th>\n",
              "      <td>2.144525e+09</td>\n",
              "      <td>3.163750e+05</td>\n",
              "      <td>3.000000</td>\n",
              "      <td>1.500000</td>\n",
              "      <td>1410.000000</td>\n",
              "      <td>5.410250e+03</td>\n",
              "      <td>1.000000</td>\n",
              "      <td>0.000000</td>\n",
              "      <td>0.000000</td>\n",
              "      <td>3.000000</td>\n",
              "      <td>7.000000</td>\n",
              "      <td>1180.000000</td>\n",
              "      <td>0.000000</td>\n",
              "      <td>1949.000000</td>\n",
              "      <td>0.000000</td>\n",
              "      <td>98033.000000</td>\n",
              "      <td>47.462850</td>\n",
              "      <td>-122.329000</td>\n",
              "      <td>1480.000000</td>\n",
              "      <td>5400.000000</td>\n",
              "    </tr>\n",
              "    <tr>\n",
              "      <th>50%</th>\n",
              "      <td>4.015755e+09</td>\n",
              "      <td>4.475000e+05</td>\n",
              "      <td>3.000000</td>\n",
              "      <td>2.000000</td>\n",
              "      <td>1890.000000</td>\n",
              "      <td>7.930000e+03</td>\n",
              "      <td>1.000000</td>\n",
              "      <td>0.000000</td>\n",
              "      <td>0.000000</td>\n",
              "      <td>3.000000</td>\n",
              "      <td>7.000000</td>\n",
              "      <td>1520.000000</td>\n",
              "      <td>0.000000</td>\n",
              "      <td>1968.000000</td>\n",
              "      <td>0.000000</td>\n",
              "      <td>98070.000000</td>\n",
              "      <td>47.573200</td>\n",
              "      <td>-122.236000</td>\n",
              "      <td>1820.000000</td>\n",
              "      <td>7842.000000</td>\n",
              "    </tr>\n",
              "    <tr>\n",
              "      <th>75%</th>\n",
              "      <td>7.338251e+09</td>\n",
              "      <td>6.450000e+05</td>\n",
              "      <td>4.000000</td>\n",
              "      <td>2.500000</td>\n",
              "      <td>2500.000000</td>\n",
              "      <td>1.120000e+04</td>\n",
              "      <td>2.000000</td>\n",
              "      <td>0.000000</td>\n",
              "      <td>0.000000</td>\n",
              "      <td>4.000000</td>\n",
              "      <td>8.000000</td>\n",
              "      <td>2120.000000</td>\n",
              "      <td>600.000000</td>\n",
              "      <td>1990.000000</td>\n",
              "      <td>0.000000</td>\n",
              "      <td>98118.000000</td>\n",
              "      <td>47.679425</td>\n",
              "      <td>-122.130000</td>\n",
              "      <td>2340.000000</td>\n",
              "      <td>10443.000000</td>\n",
              "    </tr>\n",
              "    <tr>\n",
              "      <th>max</th>\n",
              "      <td>9.842300e+09</td>\n",
              "      <td>7.062500e+06</td>\n",
              "      <td>9.000000</td>\n",
              "      <td>6.750000</td>\n",
              "      <td>10040.000000</td>\n",
              "      <td>1.651359e+06</td>\n",
              "      <td>3.500000</td>\n",
              "      <td>1.000000</td>\n",
              "      <td>4.000000</td>\n",
              "      <td>5.000000</td>\n",
              "      <td>12.000000</td>\n",
              "      <td>7680.000000</td>\n",
              "      <td>2620.000000</td>\n",
              "      <td>2015.000000</td>\n",
              "      <td>2015.000000</td>\n",
              "      <td>98199.000000</td>\n",
              "      <td>47.777600</td>\n",
              "      <td>-121.315000</td>\n",
              "      <td>5790.000000</td>\n",
              "      <td>434728.000000</td>\n",
              "    </tr>\n",
              "  </tbody>\n",
              "</table>\n",
              "</div>"
            ],
            "text/plain": [
              "                 id         price     bedrooms    bathrooms   sqft_living  \\\n",
              "count  4.396000e+03  4.396000e+03  4396.000000  4396.000000   4396.000000   \n",
              "mean   4.620277e+09  5.385529e+05     3.369654     2.061306   2057.488626   \n",
              "std    2.868658e+09  3.880678e+05     0.911351     0.775511    922.936164   \n",
              "min    1.000102e+06  7.500000e+04     0.000000     0.000000    380.000000   \n",
              "25%    2.144525e+09  3.163750e+05     3.000000     1.500000   1410.000000   \n",
              "50%    4.015755e+09  4.475000e+05     3.000000     2.000000   1890.000000   \n",
              "75%    7.338251e+09  6.450000e+05     4.000000     2.500000   2500.000000   \n",
              "max    9.842300e+09  7.062500e+06     9.000000     6.750000  10040.000000   \n",
              "\n",
              "           sqft_lot       floors   waterfront         view    condition  \\\n",
              "count  4.396000e+03  4396.000000  4396.000000  4396.000000  4396.000000   \n",
              "mean   1.579570e+04     1.430164     0.009327     0.243858     3.457916   \n",
              "std    4.359692e+04     0.510985     0.096134     0.775123     0.678822   \n",
              "min    6.090000e+02     1.000000     0.000000     0.000000     1.000000   \n",
              "25%    5.410250e+03     1.000000     0.000000     0.000000     3.000000   \n",
              "50%    7.930000e+03     1.000000     0.000000     0.000000     3.000000   \n",
              "75%    1.120000e+04     2.000000     0.000000     0.000000     4.000000   \n",
              "max    1.651359e+06     3.500000     1.000000     4.000000     5.000000   \n",
              "\n",
              "             grade   sqft_above  sqft_basement     yr_built  yr_renovated  \\\n",
              "count  4396.000000  4396.000000    4396.000000  4396.000000   4396.000000   \n",
              "mean      7.590992  1748.192903     309.295723  1966.646952     94.908098   \n",
              "std       1.163593   815.582745     457.410963    28.206052    424.859973   \n",
              "min       3.000000   380.000000       0.000000  1900.000000      0.000000   \n",
              "25%       7.000000  1180.000000       0.000000  1949.000000      0.000000   \n",
              "50%       7.000000  1520.000000       0.000000  1968.000000      0.000000   \n",
              "75%       8.000000  2120.000000     600.000000  1990.000000      0.000000   \n",
              "max      12.000000  7680.000000    2620.000000  2015.000000   2015.000000   \n",
              "\n",
              "            zipcode          lat         long  sqft_living15     sqft_lot15  \n",
              "count   4396.000000  4396.000000  4395.000000    4395.000000    4395.000000  \n",
              "mean   98078.678799    47.559557  -122.215946    1973.177019   13403.707850  \n",
              "std       54.324421     0.139923     0.141278     677.743384   26613.199102  \n",
              "min    98001.000000    47.155900  -122.514000     620.000000     660.000000  \n",
              "25%    98033.000000    47.462850  -122.329000    1480.000000    5400.000000  \n",
              "50%    98070.000000    47.573200  -122.236000    1820.000000    7842.000000  \n",
              "75%    98118.000000    47.679425  -122.130000    2340.000000   10443.000000  \n",
              "max    98199.000000    47.777600  -121.315000    5790.000000  434728.000000  "
            ]
          },
          "metadata": {
            "tags": []
          },
          "execution_count": 6
        }
      ]
    },
    {
      "metadata": {
        "id": "34IiUsZS8R3B",
        "colab_type": "text"
      },
      "cell_type": "markdown",
      "source": [
        "**DATA PREPROCESSING PHASE**\n",
        "\n",
        "This is a key phase, in which we explore the anomalies in the dataset, that may affect the further performance of the Model, remove them and make the dataset more processed and clean, that is eventually fed into the Model that we are trying to build\n",
        "\n",
        "\n",
        "Possible **Anomalies** are :-\n",
        "\n",
        "\n",
        "1.   Missing Values/Null Values  --> Categorical or Numerical\n",
        "2.   Irrelevant Observations\n",
        "3.   Outliers etc.\n"
      ]
    },
    {
      "metadata": {
        "id": "xaRBh3Iv-sNA",
        "colab_type": "text"
      },
      "cell_type": "markdown",
      "source": [
        "For the present scenario, we'll be seeing whether there are any sort of missing values in the dataset."
      ]
    },
    {
      "metadata": {
        "id": "Sa_10T2D9zWV",
        "colab_type": "text"
      },
      "cell_type": "markdown",
      "source": [
        "To find the total number of missing or null values that each feature has?\n",
        "\n",
        "We can apply **isnull()** method in pandas that describes whether there are missing values in the dataset or not , and **sum()** to know the total number of null values in each feature.\n",
        "\n",
        "[Documentation](https://pandas.pydata.org/pandas-docs/stable/generated/pandas.isnull.html) for **isnull()**\n",
        "\n",
        "[Documentation](https://python-reference.readthedocs.io/en/latest/docs/functions/sum.html) for **sum()**"
      ]
    },
    {
      "metadata": {
        "id": "LrpvcB1n95g-",
        "colab_type": "code",
        "colab": {
          "base_uri": "https://localhost:8080/",
          "height": 391
        },
        "outputId": "922c79d0-c30c-404a-8678-628934e0ddbe"
      },
      "cell_type": "code",
      "source": [
        "dataframe.isnull().sum()"
      ],
      "execution_count": 7,
      "outputs": [
        {
          "output_type": "execute_result",
          "data": {
            "text/plain": [
              "id               0\n",
              "date             0\n",
              "price            0\n",
              "bedrooms         0\n",
              "bathrooms        0\n",
              "sqft_living      0\n",
              "sqft_lot         0\n",
              "floors           0\n",
              "waterfront       0\n",
              "view             0\n",
              "condition        0\n",
              "grade            0\n",
              "sqft_above       0\n",
              "sqft_basement    0\n",
              "yr_built         0\n",
              "yr_renovated     0\n",
              "zipcode          0\n",
              "lat              0\n",
              "long             1\n",
              "sqft_living15    1\n",
              "sqft_lot15       1\n",
              "dtype: int64"
            ]
          },
          "metadata": {
            "tags": []
          },
          "execution_count": 7
        }
      ]
    },
    {
      "metadata": {
        "id": "HCtL6fPo_IyF",
        "colab_type": "text"
      },
      "cell_type": "markdown",
      "source": [
        "We can observe that there are no null/ missing values in the dataset, Hence there is further requirement to process the data and Hence, we can continue with the implementation."
      ]
    },
    {
      "metadata": {
        "id": "MEvxQ2a6_G3r",
        "colab_type": "text"
      },
      "cell_type": "markdown",
      "source": [
        "# **DATA VISUALIZATION**\n",
        "\n",
        "In this phase we'll be exploring the data in the form of charts, plots, graphs etc.\n",
        "\n",
        "Visualizing the data can show us more inferences and there are different sort's of illustration's that facilitate this purpose.\n",
        "\n",
        "Like bar charts, Scatterplots, Histograms etc.\n",
        "\n",
        "For the current purpose, We'll be implementing a **[PAIRPLOT](https://seaborn.pydata.org/generated/seaborn.pairplot.html)**, a dynamic plotting technique in [seaborn](https://seaborn.pydata.org/) library of python that illustrates pairwise relationships in a dataset."
      ]
    },
    {
      "metadata": {
        "id": "0x1kUladBtsm",
        "colab_type": "code",
        "colab": {}
      },
      "cell_type": "code",
      "source": [
        "import seaborn as sns"
      ],
      "execution_count": 0,
      "outputs": []
    },
    {
      "metadata": {
        "id": "eYfv7x7ZdBZ3",
        "colab_type": "code",
        "colab": {
          "base_uri": "https://localhost:8080/",
          "height": 569
        },
        "outputId": "b0273527-4ce4-4b04-88bc-ebd195b90ee8"
      },
      "cell_type": "code",
      "source": [
        "sns.pairplot(data = dataframe[['id','price','bathrooms']])"
      ],
      "execution_count": 12,
      "outputs": [
        {
          "output_type": "execute_result",
          "data": {
            "text/plain": [
              "<seaborn.axisgrid.PairGrid at 0x7fb0d3a79128>"
            ]
          },
          "metadata": {
            "tags": []
          },
          "execution_count": 12
        },
        {
          "output_type": "display_data",
          "data": {
            "image/png": "[encoded data removed]",
            "text/plain": [
              "<matplotlib.figure.Figure at 0x7fb0d3d18358>"
            ]
          },
          "metadata": {
            "tags": []
          }
        }
      ]
    },
    {
      "metadata": {
        "id": "dhy1Wpw9CeS4",
        "colab_type": "text"
      },
      "cell_type": "markdown",
      "source": [
        "**INFERENCES FROM THE VISUALIZATION**\n",
        "\n",
        "We can clearly observe from the visualization that in the first row, the feature 'mpg' is having negative correlation with **displacement** and **weight**, positive correlation with **acceleration**.\n",
        "\n",
        "Read more about the significance of [correlation](https://onlinecourses.science.psu.edu/stat100/node/35/).\n",
        "\n"
      ]
    },
    {
      "metadata": {
        "id": "cXmQJgbhDSPw",
        "colab_type": "text"
      },
      "cell_type": "markdown",
      "source": [
        "Hence we have to extract only the features displacement, weight, acceleration as the final feature set and the label to be mpg(miles per gallon)"
      ]
    },
    {
      "metadata": {
        "id": "AGOe79KSQAVB",
        "colab_type": "code",
        "colab": {}
      },
      "cell_type": "code",
      "source": [
        "features = dataframe[['id','bathrooms']]"
      ],
      "execution_count": 0,
      "outputs": []
    },
    {
      "metadata": {
        "id": "BeS5a-WNQOx2",
        "colab_type": "code",
        "colab": {}
      },
      "cell_type": "code",
      "source": [
        "target = dataframe['price']"
      ],
      "execution_count": 0,
      "outputs": []
    },
    {
      "metadata": {
        "id": "fqAbi0f2DpYd",
        "colab_type": "text"
      },
      "cell_type": "markdown",
      "source": [
        "# EXPLRORING THE TERM NORMALIZATION"
      ]
    },
    {
      "metadata": {
        "id": "sq3cpwP2EU5p",
        "colab_type": "text"
      },
      "cell_type": "markdown",
      "source": [
        "Observe the histogram illustrated in the below. We observe that most of the values are been concentrated to the left region of the histogram, it simply means there isn't any harmony in the data values.\n",
        "\n",
        "Hence, in order to bring about an intervention in the workflow and  to bring the data values into a harmony i.e., to bring them to a common scale, We apply **[NORMALIZATION](https://docs.microsoft.com/en-us/azure/machine-learning/studio-module-reference/normalize-data)**."
      ]
    },
    {
      "metadata": {
        "id": "FUxaHVr3QP3a",
        "colab_type": "code",
        "colab": {}
      },
      "cell_type": "code",
      "source": [
        "import matplotlib.pyplot as plt"
      ],
      "execution_count": 0,
      "outputs": []
    },
    {
      "metadata": {
        "id": "DcjUMOgqQea-",
        "colab_type": "code",
        "colab": {
          "base_uri": "https://localhost:8080/",
          "height": 432
        },
        "outputId": "7abb38ec-f178-4fef-9c90-3ee02caccb4e"
      },
      "cell_type": "code",
      "source": [
        "plt.hist(target,bins=10)"
      ],
      "execution_count": 16,
      "outputs": [
        {
          "output_type": "execute_result",
          "data": {
            "text/plain": [
              "(array([3.713e+03, 5.720e+02, 6.800e+01, 2.600e+01, 9.000e+00, 3.000e+00,\n",
              "        1.000e+00, 3.000e+00, 0.000e+00, 1.000e+00]),\n",
              " array([  75000.,  773750., 1472500., 2171250., 2870000., 3568750.,\n",
              "        4267500., 4966250., 5665000., 6363750., 7062500.]),\n",
              " <a list of 10 Patch objects>)"
            ]
          },
          "metadata": {
            "tags": []
          },
          "execution_count": 16
        },
        {
          "output_type": "display_data",
          "data": {
            "image/png": "[encoded data removed]",
            "text/plain": [
              "<matplotlib.figure.Figure at 0x7fb0d4f169e8>"
            ]
          },
          "metadata": {
            "tags": []
          }
        }
      ]
    },
    {
      "metadata": {
        "id": "RT6tWkMVGKbT",
        "colab_type": "text"
      },
      "cell_type": "markdown",
      "source": [
        "**HOW TO RESOLVE NORMALIZATION?**\n",
        "\n",
        "Well there are precisely many techniques available to apply Normalization to data.\n",
        "\n",
        "Learn More [here](https://docs.microsoft.com/en-us/azure/machine-learning/studio-module-reference/normalize-data).\n",
        "\n",
        "In the present scenario we are gonna work with **LOG TRANSFORMS** normalization technique which is facilitated by **[NUMPY](http://www.numpy.org/)** library in Python.\n",
        "\n",
        "Explore this [link](https://machinelearningblogs.com/2016/11/22/3-data-transformation-tips-python/) for further information."
      ]
    },
    {
      "metadata": {
        "id": "k7dkw6MVQhCb",
        "colab_type": "code",
        "colab": {}
      },
      "cell_type": "code",
      "source": [
        "import numpy as np"
      ],
      "execution_count": 0,
      "outputs": []
    },
    {
      "metadata": {
        "id": "-9pv6MT9QqdV",
        "colab_type": "code",
        "colab": {}
      },
      "cell_type": "code",
      "source": [
        "#implementation of log transforms using log() method.\n",
        "dataframe_normalized = np.log(target)"
      ],
      "execution_count": 0,
      "outputs": []
    },
    {
      "metadata": {
        "id": "-8t8XbILH3wy",
        "colab_type": "text"
      },
      "cell_type": "markdown",
      "source": [
        "**HISTOGRAM AFTER NORMALIZATION**\n",
        "\n",
        "We can observe a bell shaped curve is obtained after the implementation of LOG TRANSFORMS."
      ]
    },
    {
      "metadata": {
        "id": "nCYZj0l_Q_MU",
        "colab_type": "code",
        "colab": {
          "base_uri": "https://localhost:8080/",
          "height": 449
        },
        "outputId": "1487548e-2de6-41c1-93f4-4e2abff87f46"
      },
      "cell_type": "code",
      "source": [
        "plt.hist(dataframe_normalized)"
      ],
      "execution_count": 19,
      "outputs": [
        {
          "output_type": "execute_result",
          "data": {
            "text/plain": [
              "(array([  11.,  116.,  789., 1403., 1275.,  584.,  155.,   46.,   12.,\n",
              "           5.]),\n",
              " array([11.22524339, 11.67975002, 12.13425664, 12.58876327, 13.0432699 ,\n",
              "        13.49777652, 13.95228315, 14.40678978, 14.8612964 , 15.31580303,\n",
              "        15.77030965]),\n",
              " <a list of 10 Patch objects>)"
            ]
          },
          "metadata": {
            "tags": []
          },
          "execution_count": 19
        },
        {
          "output_type": "display_data",
          "data": {
            "image/png": "[encoded data removed]",
            "text/plain": [
              "<matplotlib.figure.Figure at 0x7fb0d5818160>"
            ]
          },
          "metadata": {
            "tags": []
          }
        }
      ]
    },
    {
      "metadata": {
        "id": "C04kA-M1I_wz",
        "colab_type": "text"
      },
      "cell_type": "markdown",
      "source": [
        "**WHAT HAPPENS WHEN WE DON'T APPLY NORMALIZATION?**\n",
        "\n",
        "To know the importance of Normalization observe the performance scores of the Linear Regressor Model trained with Un- Normalized data and in another instance training with Normalized data."
      ]
    },
    {
      "metadata": {
        "id": "_zY9q8Y1SSIj",
        "colab_type": "text"
      },
      "cell_type": "markdown",
      "source": [
        "**RESULT WITHOUT NORMALIZATION**"
      ]
    },
    {
      "metadata": {
        "id": "7Ofcbo2xRBB_",
        "colab_type": "code",
        "colab": {}
      },
      "cell_type": "code",
      "source": [
        "#train test split\n",
        "from sklearn.model_selection import train_test_split"
      ],
      "execution_count": 0,
      "outputs": []
    },
    {
      "metadata": {
        "id": "CflS9mKVRQYz",
        "colab_type": "code",
        "colab": {}
      },
      "cell_type": "code",
      "source": [
        "#result without normalization\n",
        "X_train,X_test,y_train,y_test = train_test_split(features,target,test_size=0.2,train_size=0.8)"
      ],
      "execution_count": 0,
      "outputs": []
    },
    {
      "metadata": {
        "id": "KOT3kk_IReXK",
        "colab_type": "code",
        "colab": {}
      },
      "cell_type": "code",
      "source": [
        "# performance metric -> Co-Efficient of Determination (r2_score)\n",
        "from sklearn.metrics import r2_score"
      ],
      "execution_count": 0,
      "outputs": []
    },
    {
      "metadata": {
        "id": "U0eglKC-Sjdr",
        "colab_type": "code",
        "colab": {}
      },
      "cell_type": "code",
      "source": [
        "#Linear Regression Model\n",
        "from sklearn.linear_model import LinearRegression"
      ],
      "execution_count": 0,
      "outputs": []
    },
    {
      "metadata": {
        "id": "-nLStVOgSoDP",
        "colab_type": "code",
        "colab": {}
      },
      "cell_type": "code",
      "source": [
        "#Feeding the Model\n",
        "regressor = LinearRegression()\n",
        "reg_fit = regressor.fit(X_train,y_train)\n",
        "reg_pred = reg_fit.predict(X_test)"
      ],
      "execution_count": 0,
      "outputs": []
    },
    {
      "metadata": {
        "id": "QCHBHrgbUtL-",
        "colab_type": "code",
        "colab": {}
      },
      "cell_type": "code",
      "source": [
        "#score of unnormalized data\n",
        "score_not_norm = r2_score(y_test,reg_pred)"
      ],
      "execution_count": 0,
      "outputs": []
    },
    {
      "metadata": {
        "id": "fMDjnjt7bktE",
        "colab_type": "code",
        "colab": {
          "base_uri": "https://localhost:8080/",
          "height": 34
        },
        "outputId": "edc76fc7-1147-41ab-f7be-2951516d7f7c"
      },
      "cell_type": "code",
      "source": [
        "print(score_not_norm)"
      ],
      "execution_count": 26,
      "outputs": [
        {
          "output_type": "stream",
          "text": [
            "0.2700642677997166\n"
          ],
          "name": "stdout"
        }
      ]
    },
    {
      "metadata": {
        "id": "BOTtf7Gib7Va",
        "colab_type": "text"
      },
      "cell_type": "markdown",
      "source": [
        "**RESULT WITH NORMALIZATION**"
      ]
    },
    {
      "metadata": {
        "id": "pRtv5goQcB84",
        "colab_type": "code",
        "colab": {}
      },
      "cell_type": "code",
      "source": [
        "#result with normalization\n",
        "X_train_n,X_test_n,y_train_n,y_test_n = train_test_split(features,dataframe_normalized,test_size=0.2,train_size=0.8)"
      ],
      "execution_count": 0,
      "outputs": []
    },
    {
      "metadata": {
        "id": "mrjI2iFIcUq6",
        "colab_type": "code",
        "colab": {}
      },
      "cell_type": "code",
      "source": [
        "#Feeding the Model\n",
        "regressor_norm = LinearRegression()\n",
        "reg_fit_norm = regressor.fit(X_train_n,y_train_n)\n",
        "reg_pred_norm = reg_fit.predict(X_test_n)"
      ],
      "execution_count": 0,
      "outputs": []
    },
    {
      "metadata": {
        "id": "c9iAPwLDcfbA",
        "colab_type": "code",
        "colab": {}
      },
      "cell_type": "code",
      "source": [
        "#score of normalized data\n",
        "score_norm = r2_score(y_test_n,reg_pred_norm)"
      ],
      "execution_count": 0,
      "outputs": []
    },
    {
      "metadata": {
        "id": "KZAtyRjCclp-",
        "colab_type": "code",
        "colab": {
          "base_uri": "https://localhost:8080/",
          "height": 34
        },
        "outputId": "a076ffbf-ede9-47e6-b5a8-a8586900d4c0"
      },
      "cell_type": "code",
      "source": [
        "print(score_norm)"
      ],
      "execution_count": 0,
      "outputs": [
        {
          "output_type": "stream",
          "text": [
            "0.7538778085736144\n"
          ],
          "name": "stdout"
        }
      ]
    },
    {
      "metadata": {
        "id": "3GH3c1ZKKZZ4",
        "colab_type": "text"
      },
      "cell_type": "markdown",
      "source": [
        "# JUSTIFICATION\n",
        "\n",
        "\n",
        "It is clearly inferred from the analysis above that by the implementation of NORMALIZATION we can observe that the performance of  **LINEAR REGRESSOR** model is better than the one trained with un-normalized data."
      ]
    },
    {
      "metadata": {
        "id": "mReyW5sgTs6g",
        "colab_type": "text"
      },
      "cell_type": "markdown",
      "source": [
        "# ACTIVITY\n",
        "\n",
        "Explore your skill set by working on diverse datasets that need Linear Regression Model to be applied.\n",
        "\n",
        "This gives you the confidence to tackle with diverse data.\n",
        "\n",
        "You can try these datasets:-\n",
        "\n",
        "[House Sales in King County, USA](https://www.kaggle.com/harlfoxem/housesalesprediction)\n",
        "\n",
        "\n",
        "[Medical Cost Personal Data Sets](https://www.kaggle.com/mirichoi0218/insurance)\n",
        "\n",
        "\n",
        "[Red Wine Quality](https://www.kaggle.com/uciml/red-wine-quality-cortez-et-al-2009)\n",
        "\n",
        "\n",
        "[Concrete Strength Regression](https://www.kaggle.com/maajdl/yeh-concret-data)\n",
        "\n",
        "[IMDB Data Set](https://www.kaggle.com/maajdl/yeh-concret-data)\n"
      ]
    },
    {
      "metadata": {
        "id": "NREpGMh_W3Uy",
        "colab_type": "code",
        "colab": {}
      },
      "cell_type": "code",
      "source": [
        ""
      ],
      "execution_count": 0,
      "outputs": []
    }
  ]
}